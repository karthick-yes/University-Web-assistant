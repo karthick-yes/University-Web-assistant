{
 "cells": [
  {
   "cell_type": "code",
   "execution_count": 4,
   "metadata": {},
   "outputs": [
    {
     "name": "stdout",
     "output_type": "stream",
     "text": [
      "True\n"
     ]
    }
   ],
   "source": [
    "import urllib.robotparser\n",
    "\n",
    "rp = urllib.robotparser.RobotFileParser()\n",
    "rp.set_url(\"https://www.ashoka.edu.in/robots.txt\")\n",
    "rp.read()\n",
    "\n",
    "# Check if a URL can be fetched\n",
    "can_fetch = rp.can_fetch(\"*\", \"https://www.ashoka.edu.in/profile/aniket-aga/\")\n",
    "print(can_fetch)"
   ]
  },
  {
   "cell_type": "code",
   "execution_count": 4,
   "metadata": {},
   "outputs": [
    {
     "name": "stderr",
     "output_type": "stream",
     "text": [
      "ERROR:trafilatura.downloads:download error: https://www.ashoka.edu.in/leadership_role/board-of-management/ HTTPSConnectionPool(host='www.ashoka.edu.in', port=443): Max retries exceeded with url: /leadership_role/board-of-management/ (Caused by ResponseError('too many 500 error responses'))\n",
      "WARNING:trafilatura.core:discarding data for url: None\n",
      "ERROR:trafilatura.downloads:download error: https://www.ashoka.edu.in/leadership_role/governing-body/ HTTPSConnectionPool(host='www.ashoka.edu.in', port=443): Max retries exceeded with url: /leadership_role/governing-body/ (Caused by ResponseError('too many 500 error responses'))\n",
      "WARNING:trafilatura.core:discarding data for url: None\n",
      "ERROR:trafilatura.downloads:not a 200 response: 404 for URL https://www.ashoka.edu.in/page/centre-for-china-studies/\n",
      "WARNING:trafilatura.core:discarding data for url: None\n",
      "ERROR:trafilatura.downloads:not a 200 response: 404 for URL https://www.ashoka.edu.in/stories/alumni-achievements/\n",
      "WARNING:trafilatura.core:discarding data for url: None\n",
      "ERROR:trafilatura.downloads:not a 200 response: 404 for URL https://www.ashoka.edu.in/stories/alumni-writes/\n",
      "WARNING:trafilatura.core:discarding data for url: None\n",
      "ERROR:trafilatura.downloads:not a 200 response: 404 for URL https://www.ashoka.edu.in/stories/editors-pick/\n",
      "WARNING:trafilatura.core:discarding data for url: None\n",
      "ERROR:trafilatura.downloads:not a 200 response: 404 for URL https://www.ashoka.edu.in/stories/research-at-ashoka/\n",
      "WARNING:trafilatura.core:discarding data for url: None\n"
     ]
    }
   ],
   "source": [
    "from trafilatura.spider import focused_crawler\n",
    "from trafilatura import fetch_url\n",
    "from trafilatura import extract\n",
    "homepage = \"https://www.ashoka.edu.in/\"\n",
    "to_visit, known_urls = focused_crawler(homepage, max_seen_urls=5, max_known_urls=5)\n",
    "to_visit, known_urls = list(to_visit), sorted(known_urls)\n",
    "\n",
    "\n",
    "for url in known_urls:\n",
    "    downloaded = fetch_url(url)\n",
    "    data = extract(downloaded, favor_precision=True, no_fallback=True, include_formatting= False)\n",
    "    with open('sassyscraped.csv', 'a', encoding=\"utf-8\") as f:\n",
    "        f.write(f\"{data},{url}\\n\")\n",
    "\n"
   ]
  },
  {
   "cell_type": "code",
   "execution_count": null,
   "metadata": {},
   "outputs": [],
   "source": []
  }
 ],
 "metadata": {
  "kernelspec": {
   "display_name": "Python 3",
   "language": "python",
   "name": "python3"
  },
  "language_info": {
   "codemirror_mode": {
    "name": "ipython",
    "version": 3
   },
   "file_extension": ".py",
   "mimetype": "text/x-python",
   "name": "python",
   "nbconvert_exporter": "python",
   "pygments_lexer": "ipython3",
   "version": "3.11.1"
  },
  "orig_nbformat": 4
 },
 "nbformat": 4,
 "nbformat_minor": 2
}
